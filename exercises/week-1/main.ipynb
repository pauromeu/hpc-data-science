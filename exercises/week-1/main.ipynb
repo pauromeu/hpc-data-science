{
 "cells": [
  {
   "cell_type": "code",
   "execution_count": null,
   "metadata": {},
   "outputs": [],
   "source": [
    "import numpy as np"
   ]
  },
  {
   "cell_type": "code",
   "execution_count": 31,
   "metadata": {},
   "outputs": [
    {
     "name": "stdout",
     "output_type": "stream",
     "text": [
      "Matrix\n",
      "[[1 2 3 4]\n",
      " [5 6 7 8]]\n",
      "\n",
      "a)\n",
      "3\n",
      "\n",
      "b)\n",
      "[5 6 7 8]\n",
      "\n",
      "c)\n",
      "[[1 2]\n",
      " [5 6]]\n",
      "\n",
      "d)\n",
      "[5 6 8]\n",
      "\n"
     ]
    }
   ],
   "source": [
    "# Exercise 1\n",
    "\n",
    "m1 = np.arange(1, 5)\n",
    "m2 = np.arange(5, 9)\n",
    "\n",
    "M = np.concatenate([m1.reshape((1, len(m1))), m2.reshape((1, len(m2)))], axis=0)\n",
    "\n",
    "print(\"Matrix\")\n",
    "print(M)\n",
    "print()\n",
    "\n",
    "print(\"a)\")\n",
    "print(M[0, 2])\n",
    "print()\n",
    "\n",
    "print(\"b)\")\n",
    "print(M[1,:])\n",
    "print()\n",
    "\n",
    "print(\"c)\")\n",
    "print(M[:,:2])\n",
    "print()\n",
    "\n",
    "print(\"d)\")\n",
    "print(np.concatenate((M[1,:2],M[1,3:])))\n",
    "print()"
   ]
  },
  {
   "cell_type": "code",
   "execution_count": 38,
   "metadata": {},
   "outputs": [],
   "source": [
    "# Exercise 2\n",
    "\n",
    "X = np.logspace(-10, -16, 4)\n",
    "\n",
    "f1 = np.empty_like(X)\n",
    "f2 = np.empty_like(X)\n",
    "f3 = np.empty_like(X)\n",
    "\n",
    "for i in range(len(X)):\n",
    "    f1[i] = (np.sqrt(1 - X[i]) - 1) / X[i]\n",
    "    f2[i] = 1 / (np.sqrt(1 + X[i]) + 1)\n",
    "    f3[i] = 1/2 + X[i]/8 + X[i]**2/16 + 5*X[i]**3/128\n"
   ]
  }
 ],
 "metadata": {
  "kernelspec": {
   "display_name": "venv",
   "language": "python",
   "name": "python3"
  },
  "language_info": {
   "codemirror_mode": {
    "name": "ipython",
    "version": 3
   },
   "file_extension": ".py",
   "mimetype": "text/x-python",
   "name": "python",
   "nbconvert_exporter": "python",
   "pygments_lexer": "ipython3",
   "version": "3.10.12"
  },
  "orig_nbformat": 4
 },
 "nbformat": 4,
 "nbformat_minor": 2
}
